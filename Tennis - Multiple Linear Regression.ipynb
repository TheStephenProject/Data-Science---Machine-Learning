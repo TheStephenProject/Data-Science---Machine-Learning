{
 "cells": [
  {
   "cell_type": "markdown",
   "id": "1f660cdf",
   "metadata": {},
   "source": [
    "# Tennis Ace - Multiple Linear Regression"
   ]
  },
  {
   "cell_type": "markdown",
   "id": "fa85f881",
   "metadata": {},
   "source": [
    "This project aims to create a linear regression model that predicts the outcomes for a tennis player based on their playing habits.\n",
    "\n",
    "Data from https://en.wikipedia.org/wiki/Association_of_Tennis_Professionals (change hyperlink) will be analysed and modelled. "
   ]
  },
  {
   "cell_type": "markdown",
   "id": "e72709b2",
   "metadata": {},
   "source": [
    "# Data dictionary\n",
    "\n",
    "    Player: name of the tennis player\n",
    "    Year: year data was recorded\n",
    "\n",
    "Service Game Columns (Offensive)\n",
    "\n",
    "    Aces: number of serves by the player where the receiver does not touch the ball\n",
    "    DoubleFaults: number of times player missed both first and second serve attempts\n",
    "    FirstServe: % of first-serve attempts made\n",
    "    FirstServePointsWon: % of first-serve attempt points won by the player\n",
    "    SecondServePointsWon: % of second-serve attempt points won by the player\n",
    "    BreakPointsFaced: number of times where the receiver could have won service game of the player\n",
    "    BreakPointsSaved: % of the time the player was able to stop the receiver from winning service game when they had the chance\n",
    "    ServiceGamesPlayed: total number of games where the player served\n",
    "    ServiceGamesWon: total number of games where the player served and won\n",
    "    TotalServicePointsWon: % of points in games where the player served that they won\n",
    "\n",
    "Return Game Columns (Defensive)\n",
    "\n",
    "    FirstServeReturnPointsWon: % of opponents first-serve points the player was able to win\n",
    "    SecondServeReturnPointsWon: % of opponents second-serve points the player was able to win\n",
    "    BreakPointsOpportunities: number of times where the player could have won the service game of the opponent\n",
    "    BreakPointsConverted: % of the time the player was able to win their opponent’s service game when they had the chance\n",
    "    ReturnGamesPlayed: total number of games where the player’s opponent served\n",
    "    ReturnGamesWon: total number of games where the player’s opponent served and the player won\n",
    "    ReturnPointsWon: total number of points where the player’s opponent served and the player won\n",
    "    TotalPointsWon: % of points won by the player\n",
    "\n",
    "Outcomes\n",
    "\n",
    "    Wins: number of matches won in a year\n",
    "    Losses: number of matches lost in a year\n",
    "    Winnings: total winnings in USD($) in a year\n",
    "    Ranking: ranking at the end of year"
   ]
  },
  {
   "cell_type": "code",
   "execution_count": 126,
   "id": "19b1728f",
   "metadata": {},
   "outputs": [],
   "source": [
    "#importing the relevant libaries\n",
    "import seaborn as sns\n",
    "import pandas as pd\n",
    "import numpy as np\n",
    "import matplotlib.pyplot as plt\n",
    "from sklearn.model_selection import train_test_split\n",
    "from sklearn.linear_model import LinearRegression"
   ]
  },
  {
   "cell_type": "markdown",
   "id": "bccd90cc",
   "metadata": {},
   "source": [
    "# Data Processing"
   ]
  },
  {
   "cell_type": "code",
   "execution_count": 127,
   "id": "b3e82159",
   "metadata": {},
   "outputs": [],
   "source": [
    "# loading in the csv file and looking at the top 5 rows\n",
    "tennis_stats = pd.read_csv(\"tennis_stats.csv\")\n",
    "tennis_stats.head()"
   ]
  },
  {
   "cell_type": "code",
   "execution_count": 128,
   "id": "9408bea4",
   "metadata": {},
   "outputs": [],
   "source": [
    "# looking at the bottom 5 rows\n",
    "tennis_stats.tail()"
   ]
  },
  {
   "cell_type": "code",
   "execution_count": 129,
   "id": "99074976",
   "metadata": {},
   "outputs": [],
   "source": [
    "# looking at the shape of the dataset i.e. how many rows and columns there are\n",
    "#there's  1721 rows and 24 columns\n",
    "#also checking the datatypes to see if they are correct\n",
    "tennis_stats.info()"
   ]
  },
  {
   "cell_type": "code",
   "execution_count": 130,
   "id": "52b02327",
   "metadata": {},
   "outputs": [],
   "source": [
    "#Working out how many unique players are in the dataset\n",
    "tennis_stats.Player.nunique()\n"
   ]
  },
  {
   "cell_type": "code",
   "execution_count": 131,
   "id": "1bcc1ffd",
   "metadata": {},
   "outputs": [],
   "source": [
    "# checking for null values\n",
    "tennis_stats.isna().sum()"
   ]
  },
  {
   "cell_type": "code",
   "execution_count": 132,
   "id": "b6db66c6",
   "metadata": {},
   "outputs": [],
   "source": [
    "#dropping duplicate rows\n",
    "tennis_stats.drop_duplicates(inplace=True)"
   ]
  },
  {
   "cell_type": "code",
   "execution_count": 133,
   "id": "bdab6831",
   "metadata": {
    "scrolled": true
   },
   "outputs": [],
   "source": [
    "tennis_stats.describe(include = \"all\")"
   ]
  },
  {
   "cell_type": "markdown",
   "id": "855b7904",
   "metadata": {},
   "source": [
    "# EDA\n"
   ]
  },
  {
   "cell_type": "markdown",
   "id": "e82618c4",
   "metadata": {},
   "source": [
    "To see the relationship between the quantitative variables the following visualisation tool a scatter plot will be used.\n",
    "to quantise the relationship: depending on the linearity of the plot one may use either a pearson or spearmans test\n"
   ]
  },
  {
   "cell_type": "code",
   "execution_count": 134,
   "id": "e1b88055",
   "metadata": {},
   "outputs": [],
   "source": [
    "Y = tennis_stats[\"Wins\"]\n",
    "X = [tennis_stats[\"Aces\"], tennis_stats[\"DoubleFaults\"], tennis_stats[\"FirstServe\"],\n",
    "     tennis_stats[\"FirstServePointsWon\"], tennis_stats[\"SecondServePointsWon\"],\n",
    "     tennis_stats[\"BreakPointsFaced\"], tennis_stats[\"BreakPointsSaved\"],\n",
    "     tennis_stats[\"ServiceGamesPlayed\"], tennis_stats[\"ServiceGamesWon\"],\n",
    "     tennis_stats[\"TotalServicePointsWon\"], tennis_stats[\"FirstServeReturnPointsWon\"],\n",
    "     tennis_stats[\"SecondServeReturnPointsWon\"], tennis_stats[\"BreakPointsOpportunities\"],\n",
    "     tennis_stats[\"BreakPointsConverted\"], tennis_stats[\"ReturnGamesPlayed\"],\n",
    "     tennis_stats[\"ReturnGamesWon\"], tennis_stats[\"ReturnPointsWon\"], tennis_stats[\"TotalPointsWon\"]]\n",
    "\n",
    "X_name = [\"Aces\", \"DoubleFaults\", \"FirstServe\", \"FirstServePointsWon\",\n",
    "          \"SecondServePointsWon\", \"BreakPointsFaced\", \"BreakPointsSaved\",\n",
    "          \"ServiceGamesPlayed\", \"ServiceGamesWon\", \"TotalServicePointsWon\",\n",
    "          \"FirstServeReturnPointsWon\", \"SecondServeReturnPointsWon\", \"BreakPointsOpportunities\",\n",
    "          \"BreakPointsConverted\", \"ReturnGamesPlayed\", \"ReturnGamesWon\", \"ReturnPointsWon\",\n",
    "          \"TotalPointsWon\"]"
   ]
  },
  {
   "cell_type": "code",
   "execution_count": 135,
   "id": "3de298eb",
   "metadata": {},
   "outputs": [],
   "source": [
    "# Create the subplots\n",
    "fig, axes = plt.subplots(nrows=6, ncols=3, figsize=(20, 20))\n",
    "\n",
    "# Flatten the axes array to loop through it with a single index\n",
    "axes = axes.flatten()\n",
    "\n",
    "# Loop through the X variables and plot Y vs. each X variable\n",
    "for i, ax in enumerate(axes):\n",
    "        ax.scatter(X[i], Y, alpha=0.5)\n",
    "        ax.set_xlabel(X_name[i])\n",
    "        ax.set_ylabel(\"Wins\")\n",
    "        ax.set_title(f'Wins vs. {X_name[i]}')\n",
    "\n",
    "        # Calculate Pearson correlation coefficient\n",
    "        correlation_coefficient = np.corrcoef(X[i], Y)[0, 1]\n",
    "\n",
    "        # Display the correlation coefficient on the plot\n",
    "        ax.text(0.1, 0.9, f\"Pearson Corr: {correlation_coefficient:.2f}\", transform=ax.transAxes, fontsize=10, fontweight='bold')\n",
    "\n",
    "# Adjust the layout and add space between subplots\n",
    "plt.tight_layout(pad=1.5)\n",
    "\n",
    "# Show the plot\n",
    "plt.show()\n"
   ]
  },
  {
   "cell_type": "markdown",
   "id": "091f69a9",
   "metadata": {},
   "source": [
    "Let's build a single feature linear regression model. Based of the graphs it seems like the number of aces correlates well to the number of wins so lets start with this."
   ]
  },
  {
   "cell_type": "code",
   "execution_count": 136,
   "id": "c902dc75",
   "metadata": {},
   "outputs": [],
   "source": [
    "features = np.array(tennis_stats[\"Aces\"]).reshape(-1,1)\n",
    "outcome = np.array(tennis_stats[\"Wins\"]).reshape(-1,1)\n",
    "\n",
    "features_train, features_test, outcome_train, outcome_test = train_test_split(features, outcome, train_size=0.8)\n",
    "\n",
    "model = LinearRegression()\n",
    "model.fit(features_train, outcome_train)\n",
    "\n",
    "# Calculate the coefficient of determination (R^2) on the test set\n",
    "r_squared = model.score(features_test, outcome_test)\n",
    "print(\"R-squared:\", r_squared)\n",
    "\n",
    "# Make predictions on the test set\n",
    "prediction = model.predict(features_test)\n",
    "\n",
    "# Plot the scatter plot\n",
    "plt.scatter(outcome_test, prediction)\n",
    "plt.xlabel(\"Actual Wins\")\n",
    "plt.ylabel(\"Predicted Wins\")\n",
    "plt.title(\"Actual Wins vs. Predicted Wins\")\n",
    "plt.show()\n"
   ]
  },
  {
   "cell_type": "code",
   "execution_count": 137,
   "id": "9f24d52a",
   "metadata": {},
   "outputs": [],
   "source": [
    "features = np.array(tennis_stats[\"ServiceGamesPlayed\"]).reshape(-1,1)\n",
    "outcome = np.array(tennis_stats[\"Wins\"]).reshape(-1,1)\n",
    "\n",
    "features_train, features_test, outcome_train, outcome_test = train_test_split(features, outcome, train_size=0.8)\n",
    "\n",
    "model = LinearRegression()\n",
    "model.fit(features_train, outcome_train)\n",
    "\n",
    "# Calculate the coefficient of determination (R^2) on the test set\n",
    "r_squared = model.score(features_test, outcome_test)\n",
    "print(\"R-squared:\", r_squared)\n",
    "\n",
    "# Make predictions on the test set\n",
    "prediction = model.predict(features_test)\n",
    "\n",
    "# Plot the scatter plot\n",
    "plt.scatter(outcome_test, prediction)\n",
    "plt.xlabel(\"Actual Wins\")\n",
    "plt.ylabel(\"Predicted Wins\")\n",
    "plt.title(\"Actual Wins vs. Predicted Wins\")\n",
    "plt.show()\n"
   ]
  },
  {
   "cell_type": "markdown",
   "id": "8357f63c",
   "metadata": {},
   "source": [
    "Building a multiple linear regression model based on the features that correlate well with the win outcome"
   ]
  },
  {
   "cell_type": "code",
   "execution_count": 138,
   "id": "da353485",
   "metadata": {},
   "outputs": [],
   "source": [
    "# Create a list of the features you want to include in the array\n",
    "feature_columns = [\n",
    "    \"ServiceGamesPlayed\",\n",
    "    \"Aces\",\n",
    "    \"DoubleFaults\",\n",
    "    \"BreakPointsFaced\",\n",
    "    \"BreakPointsOpportunities\",\n",
    "    \"ReturnGamesPlayed\"\n",
    "]\n",
    "\n",
    "# Use the list of feature columns to extract the corresponding data from tennis_stats\n",
    "features = np.array(tennis_stats[feature_columns])\n",
    "outcome = np.array(tennis_stats[\"Wins\"]).reshape(-1, 1)\n",
    "\n",
    "features_train, features_test, outcome_train, outcome_test = train_test_split(features, outcome, train_size=0.8)\n",
    "\n",
    "model = LinearRegression()\n",
    "model.fit(features_train, outcome_train)\n",
    "\n",
    "# Calculate the coefficient of determination (R^2) on the test set\n",
    "r_squared = model.score(features_test, outcome_test)\n",
    "print(\"R-squared:\", r_squared)\n",
    "\n",
    "# Make predictions on the test set\n",
    "prediction = model.predict(features_test)\n",
    "\n",
    "# Plot the scatter plot\n",
    "plt.scatter(outcome_test, prediction)\n",
    "plt.xlabel(\"Actual Wins\")\n",
    "plt.ylabel(\"Predicted Wins\")\n",
    "plt.title(\"Actual Wins vs. Predicted Wins\")\n",
    "plt.show()\n",
    "\n",
    "print(features)"
   ]
  },
  {
   "cell_type": "markdown",
   "id": "1d047c56",
   "metadata": {},
   "source": [
    "In this section we will now build a multiple regression model to predict the rankings of a player based on the features"
   ]
  },
  {
   "cell_type": "code",
   "execution_count": 139,
   "id": "cbf0b8f8",
   "metadata": {},
   "outputs": [],
   "source": [
    "Y = tennis_stats[\"Winnings\"]\n",
    "X = [tennis_stats[\"Aces\"], tennis_stats[\"DoubleFaults\"], tennis_stats[\"FirstServe\"],\n",
    "     tennis_stats[\"FirstServePointsWon\"], tennis_stats[\"SecondServePointsWon\"],\n",
    "     tennis_stats[\"BreakPointsFaced\"], tennis_stats[\"BreakPointsSaved\"],\n",
    "     tennis_stats[\"ServiceGamesPlayed\"], tennis_stats[\"ServiceGamesWon\"],\n",
    "     tennis_stats[\"TotalServicePointsWon\"], tennis_stats[\"FirstServeReturnPointsWon\"],\n",
    "     tennis_stats[\"SecondServeReturnPointsWon\"], tennis_stats[\"BreakPointsOpportunities\"],\n",
    "     tennis_stats[\"BreakPointsConverted\"], tennis_stats[\"ReturnGamesPlayed\"],\n",
    "     tennis_stats[\"ReturnGamesWon\"], tennis_stats[\"ReturnPointsWon\"], tennis_stats[\"TotalPointsWon\"]]\n",
    "\n",
    "X_name = [\"Aces\", \"DoubleFaults\", \"FirstServe\", \"FirstServePointsWon\",\n",
    "          \"SecondServePointsWon\", \"BreakPointsFaced\", \"BreakPointsSaved\",\n",
    "          \"ServiceGamesPlayed\", \"ServiceGamesWon\", \"TotalServicePointsWon\",\n",
    "          \"FirstServeReturnPointsWon\", \"SecondServeReturnPointsWon\", \"BreakPointsOpportunities\",\n",
    "          \"BreakPointsConverted\", \"ReturnGamesPlayed\", \"ReturnGamesWon\", \"ReturnPointsWon\",\n",
    "          \"TotalPointsWon\"]"
   ]
  },
  {
   "cell_type": "code",
   "execution_count": 140,
   "id": "ed0f5171",
   "metadata": {
    "scrolled": true
   },
   "outputs": [],
   "source": [
    "# Create the subplots\n",
    "fig, axes = plt.subplots(nrows=6, ncols=3, figsize=(20, 20))\n",
    "\n",
    "# Flatten the axes array to loop through it with a single index\n",
    "axes = axes.flatten()\n",
    "\n",
    "# Loop through the X variables and plot Y vs. each X variable\n",
    "for i, ax in enumerate(axes):\n",
    "        ax.scatter(X[i], Y, alpha=0.5)\n",
    "        ax.set_xlabel(X_name[i])\n",
    "        ax.set_ylabel(\"Winnings\")\n",
    "        ax.set_title(f'Winnings vs. {X_name[i]}')\n",
    "\n",
    "        # Calculate Pearson correlation coefficient\n",
    "        correlation_coefficient = np.corrcoef(X[i], Y)[0, 1]\n",
    "\n",
    "        # Display the correlation coefficient on the plot\n",
    "        ax.text(0.1, 0.9, f\"Pearson Corr: {correlation_coefficient:.2f}\", transform=ax.transAxes, fontsize=10, fontweight='bold')\n",
    "\n",
    "# Adjust the layout and add space between subplots\n",
    "plt.tight_layout(pad=1.5)\n",
    "\n",
    "# Show the plot\n",
    "plt.show()\n"
   ]
  },
  {
   "cell_type": "code",
   "execution_count": 141,
   "id": "7dae0485",
   "metadata": {},
   "outputs": [],
   "source": [
    "# Create a list of the features you want to include in the array\n",
    "feature_columns = [\n",
    "    \"ServiceGamesPlayed\",\n",
    "    \"Aces\",\n",
    "    \"DoubleFaults\",\n",
    "    \"BreakPointsFaced\",\n",
    "    \"BreakPointsOpportunities\",\n",
    "    \"ReturnGamesPlayed\"\n",
    "]\n",
    "\n",
    "# Use the list of feature columns to extract the corresponding data from tennis_stats\n",
    "features = np.array(tennis_stats[feature_columns])\n",
    "outcome = np.array(tennis_stats[\"Winnings\"]).reshape(-1, 1)\n",
    "\n",
    "features_train, features_test, outcome_train, outcome_test = train_test_split(features, outcome, train_size=0.8)\n",
    "\n",
    "model = LinearRegression()\n",
    "model.fit(features_train, outcome_train)\n",
    "\n",
    "# Calculate the coefficient of determination (R^2) on the test set\n",
    "r_squared = model.score(features_test, outcome_test)\n",
    "print(\"R-squared:\", r_squared)\n",
    "\n",
    "# Make predictions on the test set\n",
    "prediction = model.predict(features_test)\n",
    "\n",
    "# Plot the scatter plot\n",
    "plt.scatter(outcome_test, prediction)\n",
    "plt.xlabel(\"Actual Winnings\")\n",
    "plt.ylabel(\"Predicted Winnings\")\n",
    "plt.title(\"Actual Winnings vs. Predicted Winnings\")\n",
    "plt.show()\n",
    "\n",
    "print(features)"
   ]
  }
 ],
 "metadata": {
  "kernelspec": {
   "display_name": "Python 3 (ipykernel)",
   "language": "python",
   "name": "python3"
  },
  "language_info": {
   "codemirror_mode": {
    "name": "ipython",
    "version": 3
   },
   "file_extension": ".py",
   "mimetype": "text/x-python",
   "name": "python",
   "nbconvert_exporter": "python",
   "pygments_lexer": "ipython3",
   "version": "3.11.3"
  }
 },
 "nbformat": 4,
 "nbformat_minor": 5
}
